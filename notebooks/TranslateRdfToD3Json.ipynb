{
 "cells": [
  {
   "cell_type": "code",
   "execution_count": 1,
   "metadata": {},
   "outputs": [],
   "source": [
    "from rdflib import Graph"
   ]
  },
  {
   "cell_type": "code",
   "execution_count": 2,
   "metadata": {},
   "outputs": [
    {
     "ename": "BadSyntax",
     "evalue": "at line 40 of <>:\nBad syntax (expected '.' or '}' or ']' at end of statement) at ^ in:\n\"...b'i:netCDF ;\\r\\n  rdfs:label \"netCDF CF conventions\" ;\\r\\n.\\r\\neii:L'^b'&W-Digital-Asset-Registry rdf:type eii:Technology ;\\r\\n  rdfs:'...\"",
     "output_type": "error",
     "traceback": [
      "Traceback \u001b[0;36m(most recent call last)\u001b[0m:\n",
      "  File \u001b[1;32m\"/home/jon/anaconda3/lib/python3.6/site-packages/IPython/core/interactiveshell.py\"\u001b[0m, line \u001b[1;32m2963\u001b[0m, in \u001b[1;35mrun_code\u001b[0m\n    exec(code_obj, self.user_global_ns, self.user_ns)\n",
      "  File \u001b[1;32m\"<ipython-input-2-b7a911d3cac8>\"\u001b[0m, line \u001b[1;32m2\u001b[0m, in \u001b[1;35m<module>\u001b[0m\n    g.parse(\"../rdf/lw-eii.ttl\", format=\"ttl\")\n",
      "  File \u001b[1;32m\"/home/jon/anaconda3/lib/python3.6/site-packages/rdflib/graph.py\"\u001b[0m, line \u001b[1;32m1043\u001b[0m, in \u001b[1;35mparse\u001b[0m\n    parser.parse(source, self, **args)\n",
      "  File \u001b[1;32m\"/home/jon/anaconda3/lib/python3.6/site-packages/rdflib/plugins/parsers/notation3.py\"\u001b[0m, line \u001b[1;32m1870\u001b[0m, in \u001b[1;35mparse\u001b[0m\n    p.loadStream(source.getByteStream())\n",
      "  File \u001b[1;32m\"/home/jon/anaconda3/lib/python3.6/site-packages/rdflib/plugins/parsers/notation3.py\"\u001b[0m, line \u001b[1;32m434\u001b[0m, in \u001b[1;35mloadStream\u001b[0m\n    return self.loadBuf(stream.read())    # Not ideal\n",
      "  File \u001b[1;32m\"/home/jon/anaconda3/lib/python3.6/site-packages/rdflib/plugins/parsers/notation3.py\"\u001b[0m, line \u001b[1;32m440\u001b[0m, in \u001b[1;35mloadBuf\u001b[0m\n    self.feed(buf)\n",
      "  File \u001b[1;32m\"/home/jon/anaconda3/lib/python3.6/site-packages/rdflib/plugins/parsers/notation3.py\"\u001b[0m, line \u001b[1;32m466\u001b[0m, in \u001b[1;35mfeed\u001b[0m\n    i = self.directiveOrStatement(s, j)\n",
      "  File \u001b[1;32m\"/home/jon/anaconda3/lib/python3.6/site-packages/rdflib/plugins/parsers/notation3.py\"\u001b[0m, line \u001b[1;32m489\u001b[0m, in \u001b[1;35mdirectiveOrStatement\u001b[0m\n    return self.checkDot(argstr, j)\n",
      "  File \u001b[1;32m\"/home/jon/anaconda3/lib/python3.6/site-packages/rdflib/plugins/parsers/notation3.py\"\u001b[0m, line \u001b[1;32m1159\u001b[0m, in \u001b[1;35mcheckDot\u001b[0m\n    \"expected '.' or '}' or ']' at end of statement\")\n",
      "\u001b[0;36m  File \u001b[0;32m\"/home/jon/anaconda3/lib/python3.6/site-packages/rdflib/plugins/parsers/notation3.py\"\u001b[0;36m, line \u001b[0;32m1615\u001b[0;36m, in \u001b[0;35mBadSyntax\u001b[0;36m\u001b[0m\n\u001b[0;31m    raise BadSyntax(self._thisDoc, self.lines, argstr, i, msg)\u001b[0m\n",
      "\u001b[0;36m  File \u001b[0;32m\"<string>\"\u001b[0;36m, line \u001b[0;32munknown\u001b[0m\n\u001b[0;31mBadSyntax\u001b[0m\n"
     ]
    }
   ],
   "source": [
    "g = Graph()\n",
    "g.parse(\"../rdf/lw-eii.ttl\", format=\"ttl\")"
   ]
  },
  {
   "cell_type": "code",
   "execution_count": null,
   "metadata": {},
   "outputs": [],
   "source": [
    "len(g) # prints 2\n",
    "\n",
    "import pprint\n",
    "for stmt in g:\n",
    "    pprint.pprint(stmt)\n"
   ]
  },
  {
   "cell_type": "code",
   "execution_count": null,
   "metadata": {},
   "outputs": [],
   "source": [
    "qres = g.query(\n",
    "    \"\"\"PREFIX rdfs: <http://www.w3.org/2000/01/rdf-schema#>\n",
    "       SELECT DISTINCT ?x ?p ?y ?xtype ?ytype\n",
    "       WHERE {\n",
    "          ?a ?p ?b .\n",
    "          ?a rdfs:label ?x .\n",
    "          ?a a ?xtype .\n",
    "          ?b rdfs:label ?y .\n",
    "          ?b a ?ytype .\n",
    "       }\"\"\")\n",
    "print(qres)\n"
   ]
  },
  {
   "cell_type": "code",
   "execution_count": null,
   "metadata": {},
   "outputs": [],
   "source": [
    "thingIdx = {}     #dict of things\n",
    "thingTypeIdx = {} #dict of array of things\n",
    "thingTypeReverseIdx = {} #dict of array of things\n",
    "\n",
    "relationList = []  #dict of relationships between things\n",
    "\n",
    "for (x,p,y,xtype,ytype) in qres:\n",
    "    print(x)\n",
    "    print(g.qname(xtype))\n",
    "    subject = str(x)\n",
    "    subject_type = str(g.qname(xtype))\n",
    "    \n",
    "    print(g.qname(p))\n",
    "    prop = str(g.qname(p))\n",
    "    \n",
    "    print(y)\n",
    "    print(g.qname(ytype))\n",
    "    obj = str(y)\n",
    "    obj_type = str(g.qname(ytype))\n",
    "    print(\"\\n\")\n",
    "    \n",
    "    #add things to thingIdx to ensure unique things\n",
    "    if(subject not in thingIdx):\n",
    "        thingIdx[subject] = 1\n",
    "    else:\n",
    "        #might as well increment count of occurences\n",
    "        thingIdx[subject] = thingIdx[subject] + 1\n",
    "    \n",
    "    if(obj not in thingIdx):\n",
    "        thingIdx[obj] = 1\n",
    "    else:\n",
    "        #might as well increment count of occurences\n",
    "        thingIdx[obj] = thingIdx[obj] + 1\n",
    "    \n",
    "    #add things to thingTypeIdx\n",
    "    if(subject_type not in thingTypeIdx):\n",
    "        thingTypeIdx[subject_type] = {}\n",
    "    thingTypeIdx[subject_type][subject] = 1\n",
    "    \n",
    "    if(subject not in thingTypeReverseIdx):\n",
    "        thingTypeReverseIdx[subject] = {}\n",
    "    thingTypeReverseIdx[subject][subject_type] = 1\n",
    "    \n",
    "    if(obj_type not in thingTypeIdx):\n",
    "        thingTypeIdx[obj_type] = {}\n",
    "    thingTypeIdx[obj_type][obj] = 1\n",
    "    \n",
    "    if(obj not in thingTypeReverseIdx):\n",
    "        thingTypeReverseIdx[obj] = {}\n",
    "    thingTypeReverseIdx[obj][obj_type] = 1\n",
    "    \n",
    "    #add relations\n",
    "    rel = {\n",
    "        \"source\" : subject,\n",
    "        \"target\" : obj,\n",
    "        \"value\"  : '1',\n",
    "        \"type\"   :  prop\n",
    "    }\n",
    "    relationList.append(rel)\n",
    "    "
   ]
  },
  {
   "cell_type": "code",
   "execution_count": null,
   "metadata": {},
   "outputs": [],
   "source": [
    "pprint.pprint(thingIdx)"
   ]
  },
  {
   "cell_type": "code",
   "execution_count": null,
   "metadata": {},
   "outputs": [],
   "source": [
    "pprint.pprint(thingTypeIdx)"
   ]
  },
  {
   "cell_type": "code",
   "execution_count": null,
   "metadata": {},
   "outputs": [],
   "source": [
    "pprint.pprint(thingTypeReverseIdx)"
   ]
  },
  {
   "cell_type": "code",
   "execution_count": null,
   "metadata": {},
   "outputs": [],
   "source": [
    "pprint.pprint(relationList)"
   ]
  },
  {
   "cell_type": "code",
   "execution_count": null,
   "metadata": {},
   "outputs": [],
   "source": [
    "#create index out of types\n",
    "#get types\n",
    "typeList = thingTypeIdx.keys()\n",
    "typeIdx = {}\n",
    "nodes = []\n",
    "counter = 1\n",
    "for t in typeList:\n",
    "    typeIdx[t] = counter\n",
    "    counter = counter + 1\n",
    "    \n",
    "for obj in thingTypeReverseIdx.keys():\n",
    "    typeIds = []\n",
    "    arrTypeLabels = []\n",
    "    for x in thingTypeReverseIdx[obj].keys():\n",
    "        typeIds.append(typeIdx[x])\n",
    "        arrTypeLabels.append(x)\n",
    "    #obj = { \"id\" : id, \"group\": typeIds }\n",
    "    #obj = { \"id\" : id, \"group\": arrTypeLabels }\n",
    "    group = 1\n",
    "    if('prov:Person' in arrTypeLabels):\n",
    "        group = 10\n",
    "    if('prov:Organization' in arrTypeLabels):\n",
    "        group = 5\n",
    "    if('eii:Technology' in arrTypeLabels):\n",
    "        group = 7\n",
    "        \n",
    "    d = { \"id\" : obj, \"group\": group , \"type\" : arrTypeLabels }\n",
    "    \n",
    "    nodes.append(d)\n",
    "\n",
    "pprint.pprint(nodes)\n",
    "pprint.pprint(typeList)\n",
    "pprint.pprint(typeIdx)\n",
    "               "
   ]
  },
  {
   "cell_type": "code",
   "execution_count": null,
   "metadata": {},
   "outputs": [],
   "source": [
    "d3_obj = { \"nodes\" : nodes, \"links\" : relationList}\n",
    "pprint.pprint(d3_obj)"
   ]
  },
  {
   "cell_type": "code",
   "execution_count": null,
   "metadata": {},
   "outputs": [],
   "source": [
    "import json\n",
    "with open('data.json', 'w') as outfile:\n",
    "    json.dump(d3_obj, outfile, sort_keys = True, indent = 4)"
   ]
  },
  {
   "cell_type": "code",
   "execution_count": null,
   "metadata": {},
   "outputs": [],
   "source": []
  }
 ],
 "metadata": {
  "kernelspec": {
   "display_name": "Python 3",
   "language": "python",
   "name": "python3"
  },
  "language_info": {
   "codemirror_mode": {
    "name": "ipython",
    "version": 3
   },
   "file_extension": ".py",
   "mimetype": "text/x-python",
   "name": "python",
   "nbconvert_exporter": "python",
   "pygments_lexer": "ipython3",
   "version": "3.6.5"
  }
 },
 "nbformat": 4,
 "nbformat_minor": 2
}
